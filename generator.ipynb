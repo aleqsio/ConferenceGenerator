{
 "cells": [
  {
   "cell_type": "code",
   "execution_count": 678,
   "metadata": {},
   "outputs": [],
   "source": [
    "import pymssql\n",
    "import random\n",
    "from faker import Faker\n",
    "fake = Faker()\n",
    "size=50\n",
    "import datetime"
   ]
  },
  {
   "cell_type": "code",
   "execution_count": 679,
   "metadata": {},
   "outputs": [],
   "source": [
    "conn = pymssql.connect(\"mssql.iisg.agh.edu.pl\", \"mstanisz\", \"password-removed\", \"mstanisz_a\")\n",
    "cursor = conn.cursor()"
   ]
  },
  {
   "cell_type": "code",
   "execution_count": 680,
   "metadata": {},
   "outputs": [],
   "source": [
    "def clearDatabase():\n",
    "    cursor.callproc('ClearDB')\n",
    "clearDatabase()\n"
   ]
  },
  {
   "cell_type": "code",
   "execution_count": 681,
   "metadata": {},
   "outputs": [],
   "source": [
    "def sqlyDate(date):\n",
    "    return date.strftime('%Y-%m-%d')"
   ]
  },
  {
   "cell_type": "markdown",
   "metadata": {},
   "source": [
    "    @FirstName varchar(255),\n",
    "\t@LastName varchar(255),\n",
    "\t@BirthDate date,\n",
    "\t@phone varchar(10),\n",
    "\t@email varchar(255),\n",
    "\t@address varchar(255)\n",
    "    \n",
    "    @ContactName varchar(255),\n",
    "\t@phone varchar(10),\n",
    "\t@email varchar(255),\n",
    "\t@address varchar(255),\n",
    "\t@nip varchar(10)\n",
    "    \n",
    "# Adds clients"
   ]
  },
  {
   "cell_type": "code",
   "execution_count": 682,
   "metadata": {
    "scrolled": true
   },
   "outputs": [],
   "source": [
    "privateclients=[]\n",
    "companyclients=[]\n",
    "for i in range(size):\n",
    "    if(random.random()>0.2):\n",
    "        cursor.callproc('AddPrivateClient',(fake.first_name(),fake.last_name(),sqlyDate(fake.date_time_between(start_date=\"-80y\", end_date=\"-20y\", tzinfo=None)),fake.phone_number(),fake.email(),fake.address()))\n",
    "        privateclients.append(i+1)\n",
    "    else:\n",
    "        cursor.callproc('AddCompanyClient',(fake.company(),fake.phone_number(),fake.email(),fake.address(),random.randrange(1000000000,9999999999)))\n",
    "        companyclients.append(i+1)"
   ]
  },
  {
   "cell_type": "markdown",
   "metadata": {},
   "source": [
    "\t@name varchar(255),\n",
    "\t@startDate date,\n",
    "\t@length int,\n",
    "\n",
    "\t@capacity int,\n",
    "\t@basePrice money,\n",
    "\t@studentDiscount float(10)"
   ]
  },
  {
   "cell_type": "markdown",
   "metadata": {},
   "source": [
    "# Adds conferences"
   ]
  },
  {
   "cell_type": "code",
   "execution_count": 683,
   "metadata": {},
   "outputs": [],
   "source": [
    "conferences=[]\n",
    "conferencesdata=[]\n",
    "for i in range(size/10):\n",
    "    data=(\"Conference on \"+fake.uri_page()+\" by \"+fake.name(),fake.date_time_between(start_date=\"now\", end_date=\"+3y\"),random.randrange(2,8),random.randrange(300,1000),random.randrange(50,200),random.random()/2)\n",
    "    cursor.callproc('AddConference',data)\n",
    "    conferencesdata.append(data)\n",
    "    conferences.append(i+1)\n",
    "    "
   ]
  },
  {
   "cell_type": "markdown",
   "metadata": {},
   "source": [
    "    @clientID int,\n",
    "\t@conferenceID int,\n",
    "\t@participantsCount int\n",
    "Add details:\n",
    "\n",
    "    @ClientID int,\n",
    "\t@ConferenceID int,\n",
    "\t@participantNumber int,\n",
    "\t@firstName varchar(255),\n",
    "\t@lastName varchar(255),\n",
    "\t@phone varchar(255)"
   ]
  },
  {
   "cell_type": "markdown",
   "metadata": {},
   "source": [
    "# Participants and Days"
   ]
  },
  {
   "cell_type": "code",
   "execution_count": 684,
   "metadata": {},
   "outputs": [],
   "source": [
    "#Adds participants\n",
    "currid=1\n",
    "participants=[]\n",
    "for i in privateclients:\n",
    "    for j in conferences:\n",
    "        cursor.callproc('AddParticipants',(i,j,1))\n",
    "        participants.append((currid,i,j,1))\n",
    "        if(random.random()>0.1):\n",
    "                cursor.callproc('AddDetails',(i,j,1,fake.first_name(),fake.last_name(),fake.phone_number()))\n",
    "        if(random.random()>0.8):\n",
    "                cursor.callproc('AddStudentIdNumber',(i,j,1,random.randrange(1000000,9999999)))\n",
    "        currid+=1\n",
    "\n",
    "for i in companyclients:\n",
    "    for j in conferences:\n",
    "        count=random.randrange(1,8)\n",
    "        cursor.callproc('AddParticipants',(i,j,count))\n",
    "        for k in range(count):\n",
    "            participants.append((currid+k,i,j,k+1))\n",
    "            if(random.random()>0.3):\n",
    "                cursor.callproc('AddDetails',(i,j,k+1,fake.first_name(),fake.last_name(),fake.phone_number()))\n",
    "            if(random.random()>0.9):\n",
    "                cursor.callproc('AddStudentIdNumber',(i,j,k+1,random.randrange(1000000,9999999)))\n",
    "        currid+=count"
   ]
  },
  {
   "cell_type": "code",
   "execution_count": 685,
   "metadata": {
    "scrolled": true
   },
   "outputs": [],
   "source": [
    "\n",
    "for i in participants:\n",
    "    for day in range(conferencesdata[i[2]-1][2]):\n",
    "        if(random.random()>0.7):\n",
    "            cursor.callproc('AddDayForParticipant',(i[1],i[2],i[3],day+1))"
   ]
  },
  {
   "cell_type": "markdown",
   "metadata": {},
   "source": [
    "# Workshop definitions and workshops"
   ]
  },
  {
   "cell_type": "code",
   "execution_count": 686,
   "metadata": {},
   "outputs": [],
   "source": [
    "#add definitons\n",
    "workshopsdefinitons=[]\n",
    "for i in range(size/5):\n",
    "    data=(\"Workshop on \"+fake.uri_page()+\" by \"+fake.name(),random.choice(['01:30:00','02:00:00','01:00:00']),random.randrange(10,100))\n",
    "    cursor.callproc('AddWorkshopDefinition',data)\n",
    "    workshopsdefinitons.append(i+1)\n",
    "\n",
    "#Adds workshops\n",
    "workshops=[]\n",
    "\n",
    "for i in range(size/2):\n",
    "    conferenceid = random.choice(conferences)\n",
    "    conference= conferencesdata[conferenceid-1]\n",
    "    day=random.randrange(0,conference[2]-1)\n",
    "    dtm=datetime.datetime.combine(conference[1] + datetime.timedelta(days=day), \n",
    "                          datetime.time(random.randrange(8,18), 0))\n",
    "    data=(conferenceid,random.choice(workshopsdefinitons),dtm,None,None,fake.address(),random.randrange(200,300))\n",
    "    cursor.callproc('AddWorkshop',data)\n",
    "    workshops.append((i+1,conferenceid,dtm,day))"
   ]
  },
  {
   "cell_type": "markdown",
   "metadata": {},
   "source": [
    "# Workshops for participants"
   ]
  },
  {
   "cell_type": "code",
   "execution_count": 689,
   "metadata": {},
   "outputs": [],
   "source": [
    "ordered=[]\n",
    "for workshop in workshops:\n",
    "    cursor.execute(\"SELECT participantID FROM ParticipantDayChoices WHERE conferenceDayID = (select conferenceDayID from ConferenceDay where conferenceID = \" + str(workshop[1]) + \"and day = \"+str(workshop[3])+\")\")\n",
    "    for i in cursor.fetchall():  \n",
    "        data=(i[0],None,None,None,workshop[0])\n",
    "        if((workshop[3],i[0]) not in ordered):\n",
    "            ordered.append((workshop[3],i[0]))\n",
    "            cursor.callproc('AddWorkshopForParticipant',data)"
   ]
  },
  {
   "cell_type": "markdown",
   "metadata": {},
   "source": [
    "# Pricing steps"
   ]
  },
  {
   "cell_type": "code",
   "execution_count": 690,
   "metadata": {},
   "outputs": [],
   "source": [
    "for conferenceid in conferences:\n",
    "    data=conferencesdata[conferenceid-1]\n",
    "    initialprice=1.0\n",
    "    daysbefore=0\n",
    "    daysbeforeend=random.randrange(20,40)\n",
    "    while(random.random()>0.4):\n",
    "        initialprice=initialprice*(random.random()/2+0.5)\n",
    "        data=(conferenceid,daysbeforeend,daysbefore,initialprice)\n",
    "        cursor.callproc('AddPricingStep',data)\n",
    "        daysbefore=daysbeforeend\n",
    "        daysbeforeend+=random.randrange(20,40)"
   ]
  },
  {
   "cell_type": "code",
   "execution_count": 691,
   "metadata": {},
   "outputs": [],
   "source": [
    "conn.commit()\n",
    "conn.close()"
   ]
  },
  {
   "cell_type": "code",
   "execution_count": null,
   "metadata": {},
   "outputs": [],
   "source": []
  },
  {
   "cell_type": "code",
   "execution_count": null,
   "metadata": {},
   "outputs": [],
   "source": []
  }
 ],
 "metadata": {
  "kernelspec": {
   "display_name": "Python 2",
   "language": "python",
   "name": "python2"
  },
  "language_info": {
   "codemirror_mode": {
    "name": "ipython",
    "version": 2
   },
   "file_extension": ".py",
   "mimetype": "text/x-python",
   "name": "python",
   "nbconvert_exporter": "python",
   "pygments_lexer": "ipython2",
   "version": "2.7.14"
  }
 },
 "nbformat": 4,
 "nbformat_minor": 2
}
