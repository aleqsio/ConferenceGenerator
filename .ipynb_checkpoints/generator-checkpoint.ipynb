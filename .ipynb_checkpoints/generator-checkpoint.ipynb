{
 "cells": [
  {
   "cell_type": "code",
   "execution_count": 1005,
   "metadata": {},
   "outputs": [],
   "source": [
    "import pymssql\n",
    "import random\n",
    "from faker import Faker\n",
    "fake = Faker()\n",
    "size=50\n",
    "import datetime"
   ]
  },
  {
   "cell_type": "code",
   "execution_count": 1006,
   "metadata": {},
   "outputs": [],
   "source": [
    "with open('pass.txt', 'r') as myfile:\n",
    "    password=myfile.read().replace('\\n', '')"
   ]
  },
  {
   "cell_type": "code",
   "execution_count": 1007,
   "metadata": {},
   "outputs": [],
   "source": [
    "conn = pymssql.connect(\"mssql.iisg.agh.edu.pl\", \"mstanisz\", password, \"mstanisz_a\")\n",
    "cursor = conn.cursor()"
   ]
  },
  {
   "cell_type": "code",
   "execution_count": 1008,
   "metadata": {},
   "outputs": [],
   "source": [
    "def clearDatabase():\n",
    "    cursor.callproc('ClearDB')\n",
    "clearDatabase()\n"
   ]
  },
  {
   "cell_type": "code",
   "execution_count": 1009,
   "metadata": {},
   "outputs": [],
   "source": [
    "def sqlyDate(date):\n",
    "    return date.strftime('%Y-%m-%d')"
   ]
  },
  {
   "cell_type": "markdown",
   "metadata": {},
   "source": [
    "    @FirstName varchar(255),\n",
    "\t@LastName varchar(255),\n",
    "\t@BirthDate date,\n",
    "\t@phone varchar(10),\n",
    "\t@email varchar(255),\n",
    "\t@address varchar(255)\n",
    "    \n",
    "    @ContactName varchar(255),\n",
    "\t@phone varchar(10),\n",
    "\t@email varchar(255),\n",
    "\t@address varchar(255),\n",
    "\t@nip varchar(10)\n",
    "    \n",
    "# Adds clients"
   ]
  },
  {
   "cell_type": "code",
   "execution_count": 1010,
   "metadata": {
    "scrolled": true
   },
   "outputs": [],
   "source": [
    "privateclients=[]\n",
    "companyclients=[]\n",
    "for i in range(size):\n",
    "    if(random.random()>0.2):\n",
    "        cursor.callproc('AddPrivateClient',(fake.first_name(),fake.last_name(),sqlyDate(fake.date_time_between(start_date=\"-80y\", end_date=\"-20y\", tzinfo=None)),fake.phone_number(),fake.email(),fake.address()))\n",
    "        privateclients.append(i+1)\n",
    "    else:\n",
    "        cursor.callproc('AddCompanyClient',(fake.company(),fake.phone_number(),fake.email(),fake.address(),random.randrange(1000000000,9999999999)))\n",
    "        companyclients.append(i+1)"
   ]
  },
  {
   "cell_type": "markdown",
   "metadata": {},
   "source": [
    "\t@name varchar(255),\n",
    "\t@startDate date,\n",
    "\t@length int,\n",
    "\n",
    "\t@capacity int,\n",
    "\t@basePrice money,\n",
    "\t@studentDiscount float(10)"
   ]
  },
  {
   "cell_type": "markdown",
   "metadata": {},
   "source": [
    "# Adds conferences"
   ]
  },
  {
   "cell_type": "code",
   "execution_count": 1011,
   "metadata": {},
   "outputs": [],
   "source": [
    "conferences=[]\n",
    "conferencesdata=[]\n",
    "for i in range(size/10):\n",
    "    data=(\"Conference on \"+fake.uri_page()+\" by \"+fake.name(),fake.date_time_between(start_date=\"now\", end_date=\"+3y\"),random.randrange(2,8),random.randrange(300,1000),random.randrange(50,200),random.random()/2)\n",
    "    cursor.callproc('AddConference',data)\n",
    "    conferencesdata.append(data)\n",
    "    conferences.append(i+1)\n",
    "    "
   ]
  },
  {
   "cell_type": "markdown",
   "metadata": {},
   "source": [
    "    @clientID int,\n",
    "\t@conferenceID int,\n",
    "\t@participantsCount int\n",
    "Add details:\n",
    "\n",
    "    @ClientID int,\n",
    "\t@ConferenceID int,\n",
    "\t@participantNumber int,\n",
    "\t@firstName varchar(255),\n",
    "\t@lastName varchar(255),\n",
    "\t@phone varchar(255)"
   ]
  },
  {
   "cell_type": "markdown",
   "metadata": {},
   "source": [
    "# Pricing steps"
   ]
  },
  {
   "cell_type": "code",
   "execution_count": 1012,
   "metadata": {},
   "outputs": [],
   "source": [
    "for conferenceid in conferences:\n",
    "    data=conferencesdata[conferenceid-1]\n",
    "    initialprice=1.0\n",
    "    daysbefore=0\n",
    "    daysbeforeend=random.randrange(20,40)\n",
    "    while(random.random()>0.4):\n",
    "        initialprice=initialprice*(random.random()/2+0.5)\n",
    "        data=(conferenceid,daysbeforeend,daysbefore,initialprice)\n",
    "        cursor.callproc('AddPricingStep',data)\n",
    "        daysbefore=daysbeforeend\n",
    "        daysbeforeend+=random.randrange(20,40)"
   ]
  },
  {
   "cell_type": "markdown",
   "metadata": {},
   "source": [
    "# Workshop definitions and workshops"
   ]
  },
  {
   "cell_type": "code",
   "execution_count": 1013,
   "metadata": {},
   "outputs": [],
   "source": [
    "#add definitons\n",
    "workshopsdefinitons=[]\n",
    "for i in range(size/5):\n",
    "    data=(\"Workshop on \"+fake.uri_page()+\" by \"+fake.name(),random.choice(['01:30:00','02:00:00','01:00:00']),random.randrange(10,100))\n",
    "    cursor.callproc('AddWorkshopDefinition',data)\n",
    "    workshopsdefinitons.append(i+1)\n",
    "\n",
    "#Adds workshops\n",
    "workshops=[]\n",
    "\n",
    "for i in range(size/2):\n",
    "    conferenceid = random.choice(conferences)\n",
    "    conference= conferencesdata[conferenceid-1]\n",
    "    day=random.randrange(0,conference[2]-1)\n",
    "    dtm=datetime.datetime.combine(conference[1] + datetime.timedelta(days=day), \n",
    "                          datetime.time(random.randrange(8,18), 0))\n",
    "    data=(conferenceid,random.choice(workshopsdefinitons),dtm,None,None,fake.address(),random.randrange(200,300))\n",
    "    cursor.callproc('AddWorkshop',data)\n",
    "    workshops.append((i+1,conferenceid,dtm,day))"
   ]
  },
  {
   "cell_type": "markdown",
   "metadata": {},
   "source": [
    "# Adds conferences for clients"
   ]
  },
  {
   "cell_type": "code",
   "execution_count": 1014,
   "metadata": {},
   "outputs": [],
   "source": [
    "#Adds participants\n",
    "conferenceXprivateclients=[]\n",
    "conferenceXcompanyclients=[]\n",
    "for i in privateclients:\n",
    "    for j in conferences:\n",
    "        if(random.random()>0.9):\n",
    "            cursor.callproc('AddConferenceForClient',(i,j))\n",
    "            conferenceXprivateclients.append((i,j))\n",
    "for i in companyclients:\n",
    "    for j in conferences:\n",
    "        if(random.random()>0.9):\n",
    "            cursor.callproc('AddConferenceForClient',(i,j))\n",
    "            conferenceXcompanyclients.append((i,j))"
   ]
  },
  {
   "cell_type": "code",
   "execution_count": 1015,
   "metadata": {},
   "outputs": [],
   "source": [
    "for i in conferenceXprivateclients:\n",
    "    for k in range(1,conferencesdata[i[1]-1][2]+1):\n",
    "        if(random.random()>0.5):\n",
    "            cursor.callproc('AddConferenceDayForClient',(i[0],i[1],k,1,random.randrange(0,2)))\n",
    "for i in conferenceXcompanyclients:\n",
    "    for k in range(1,conferencesdata[i[1]-1][2]+1):\n",
    "         cursor.callproc('AddConferenceDayForClient',(i[0],i[1],k,random.randrange(5,10),random.randrange(0,5)))"
   ]
  },
  {
   "cell_type": "code",
   "execution_count": 1016,
   "metadata": {},
   "outputs": [
    {
     "name": "stdout",
     "output_type": "stream",
     "text": [
      "(1, 4, 1, 1, 16)\n",
      "(2, 3, 1, 1, 13)\n",
      "(3, 1, 7, 4, 1)\n",
      "(3, 1, 7, 4, 1)\n",
      "(3, 1, 7, 4, 1)\n",
      "(3, 1, 7, 4, 1)\n",
      "(3, 1, 9, 1, 2)\n",
      "(3, 1, 9, 4, 3)\n",
      "(3, 1, 9, 4, 3)\n",
      "(3, 1, 9, 4, 3)\n",
      "(3, 1, 9, 4, 3)\n",
      "(3, 1, 6, 2, 5)\n",
      "(3, 1, 6, 2, 5)\n",
      "(3, 1, 7, 2, 6)\n",
      "(3, 1, 7, 2, 6)\n",
      "(3, 1, 5, 3, 7)\n",
      "(3, 1, 5, 3, 7)\n",
      "(3, 1, 5, 3, 7)\n",
      "(3, 5, 7, 2, 17)\n",
      "(3, 5, 7, 2, 17)\n",
      "(5, 5, 1, 1, 18)\n",
      "(5, 5, 1, 1, 19)\n",
      "(10, 5, 1, 1, 18)\n",
      "(10, 5, 1, 1, 19)\n",
      "(11, 2, 1, 1, 8)\n",
      "(13, 1, 1, 1, 1)\n",
      "(13, 1, 1, 1, 2)\n",
      "(13, 1, 1, 1, 7)\n",
      "(16, 1, 9, 3, 1)\n",
      "(16, 1, 9, 3, 1)\n",
      "(16, 1, 9, 3, 1)\n",
      "(16, 1, 8, 2, 2)\n",
      "(16, 1, 8, 2, 2)\n",
      "(16, 1, 5, 1, 3)\n",
      "(16, 1, 6, 3, 5)\n",
      "(16, 1, 6, 3, 5)\n",
      "(16, 1, 6, 3, 5)\n",
      "(16, 1, 5, 1, 6)\n",
      "(16, 1, 9, 1, 7)\n",
      "(22, 2, 1, 1, 9)\n",
      "(22, 5, 1, 1, 17)\n",
      "(23, 3, 1, 1, 11)\n",
      "(33, 3, 1, 1, 13)\n",
      "(36, 1, 1, 1, 1)\n",
      "(36, 1, 1, 1, 2)\n",
      "(36, 1, 1, 1, 5)\n",
      "(38, 4, 1, 1, 15)\n",
      "(39, 4, 1, 1, 16)\n",
      "(48, 5, 1, 1, 17)\n",
      "(48, 5, 1, 1, 19)\n"
     ]
    }
   ],
   "source": [
    "conferenceXclientXstudentId=[]\n",
    "cursor.execute('SELECT clientID,conferenceID,reserved,students,ClientConferenceDayReservations.conferenceDayID FROM ClientConferenceDayReservations left join ConferenceDay on ClientConferenceDayReservations.conferenceDayID=ConferenceDay.conferenceDayID')\n",
    "rows=[]\n",
    "for row in cursor:\n",
    "    rows.append(row)\n",
    "for row in rows:  \n",
    "    for i in range(0,row[3]):\n",
    "        idnum=random.randrange(1000000,9999999)\n",
    "        #print(row)\n",
    "        cursor.callproc('AddStudentIdNumber',(row[0],row[1],idnum))\n",
    "        conferenceXclientXstudentId.append((row[0],row[1],idnum))"
   ]
  },
  {
   "cell_type": "markdown",
   "metadata": {},
   "source": [
    "# Provide details"
   ]
  },
  {
   "cell_type": "code",
   "execution_count": 1017,
   "metadata": {},
   "outputs": [],
   "source": [
    "for x in conferenceXclientXstudentId:\n",
    "    cursor.callproc('AddParticipantWithDetails',(x[0],x[1],fake.first_name(),fake.last_name(),fake.phone_number(),x[2]))\n",
    "for row in rows:  \n",
    "    for i in range(0,row[2]-row[3]):\n",
    "        cursor.callproc('AddParticipantWithDetails',(row[0],row[1],fake.first_name(),fake.last_name(),fake.phone_number(),None))"
   ]
  },
  {
   "cell_type": "code",
   "execution_count": 1018,
   "metadata": {},
   "outputs": [
    {
     "ename": "DatabaseError",
     "evalue": "(20004, 'DB-Lib error message 20004, severity 9:\\nRead from the server failed\\nNet-Lib error during Unknown error (10054)\\n')",
     "output_type": "error",
     "traceback": [
      "\u001b[1;31m---------------------------------------------------------------------------\u001b[0m",
      "\u001b[1;31mDatabaseError\u001b[0m                             Traceback (most recent call last)",
      "\u001b[1;32m<ipython-input-1018-54949a3b0971>\u001b[0m in \u001b[0;36m<module>\u001b[1;34m()\u001b[0m\n\u001b[0;32m      3\u001b[0m     \u001b[0mcursor\u001b[0m\u001b[1;33m.\u001b[0m\u001b[0mexecute\u001b[0m\u001b[1;33m(\u001b[0m\u001b[1;34m'SELECT participantID FROM Participants where studentIdNumber is null and clientID = %d and conferenceID = %d'\u001b[0m \u001b[1;33m%\u001b[0m \u001b[1;33m(\u001b[0m\u001b[0mrow\u001b[0m\u001b[1;33m[\u001b[0m\u001b[1;36m0\u001b[0m\u001b[1;33m]\u001b[0m\u001b[1;33m,\u001b[0m\u001b[0mrow\u001b[0m\u001b[1;33m[\u001b[0m\u001b[1;36m1\u001b[0m\u001b[1;33m]\u001b[0m\u001b[1;33m)\u001b[0m\u001b[1;33m)\u001b[0m\u001b[1;33m\u001b[0m\u001b[0m\n\u001b[0;32m      4\u001b[0m     \u001b[1;32mfor\u001b[0m \u001b[0mk\u001b[0m \u001b[1;32min\u001b[0m \u001b[0mcursor\u001b[0m\u001b[1;33m.\u001b[0m\u001b[0mfetchall\u001b[0m\u001b[1;33m(\u001b[0m\u001b[1;33m)\u001b[0m\u001b[1;33m[\u001b[0m\u001b[1;33m:\u001b[0m\u001b[0mrow\u001b[0m\u001b[1;33m[\u001b[0m\u001b[1;36m2\u001b[0m\u001b[1;33m]\u001b[0m\u001b[1;33m-\u001b[0m\u001b[0mrow\u001b[0m\u001b[1;33m[\u001b[0m\u001b[1;36m3\u001b[0m\u001b[1;33m]\u001b[0m\u001b[1;33m]\u001b[0m\u001b[1;33m:\u001b[0m\u001b[1;33m\u001b[0m\u001b[0m\n\u001b[1;32m----> 5\u001b[1;33m         \u001b[0mcursor\u001b[0m\u001b[1;33m.\u001b[0m\u001b[0mcallproc\u001b[0m\u001b[1;33m(\u001b[0m\u001b[1;34m'AddDayForParticipant'\u001b[0m\u001b[1;33m,\u001b[0m\u001b[1;33m(\u001b[0m\u001b[0mk\u001b[0m\u001b[1;33m[\u001b[0m\u001b[1;36m0\u001b[0m\u001b[1;33m]\u001b[0m\u001b[1;33m,\u001b[0m\u001b[0mNone\u001b[0m\u001b[1;33m,\u001b[0m\u001b[0mrow\u001b[0m\u001b[1;33m[\u001b[0m\u001b[1;36m4\u001b[0m\u001b[1;33m]\u001b[0m\u001b[1;33m)\u001b[0m\u001b[1;33m)\u001b[0m\u001b[1;33m\u001b[0m\u001b[0m\n\u001b[0m\u001b[0;32m      6\u001b[0m \u001b[1;32mfor\u001b[0m \u001b[0mrow\u001b[0m \u001b[1;32min\u001b[0m \u001b[0mrows\u001b[0m\u001b[1;33m:\u001b[0m\u001b[1;33m\u001b[0m\u001b[0m\n\u001b[0;32m      7\u001b[0m     \u001b[0mcursor\u001b[0m\u001b[1;33m.\u001b[0m\u001b[0mexecute\u001b[0m\u001b[1;33m(\u001b[0m\u001b[1;34m'SELECT participantID FROM Participants where studentIdNumber is not null and clientID = %d and conferenceID = %d'\u001b[0m \u001b[1;33m%\u001b[0m \u001b[1;33m(\u001b[0m\u001b[0mrow\u001b[0m\u001b[1;33m[\u001b[0m\u001b[1;36m0\u001b[0m\u001b[1;33m]\u001b[0m\u001b[1;33m,\u001b[0m\u001b[0mrow\u001b[0m\u001b[1;33m[\u001b[0m\u001b[1;36m1\u001b[0m\u001b[1;33m]\u001b[0m\u001b[1;33m)\u001b[0m\u001b[1;33m)\u001b[0m\u001b[1;33m\u001b[0m\u001b[0m\n",
      "\u001b[1;32mpymssql.pyx\u001b[0m in \u001b[0;36mpymssql.Cursor.callproc (pymssql.c:6759)\u001b[1;34m()\u001b[0m\n",
      "\u001b[1;31mDatabaseError\u001b[0m: (20004, 'DB-Lib error message 20004, severity 9:\\nRead from the server failed\\nNet-Lib error during Unknown error (10054)\\n')"
     ]
    }
   ],
   "source": [
    "for row in rows:\n",
    "    #print('SELECT participantID FROM Participants where studentIdNumber is null and clientID = %d and conferenceID = %d' % (row[0],row[1]))\n",
    "    cursor.execute('SELECT participantID FROM Participants where studentIdNumber is null and clientID = %d and conferenceID = %d' % (row[0],row[1]))\n",
    "    for k in cursor.fetchall()[:row[2]-row[3]]:\n",
    "        cursor.callproc('AddDayForParticipant',(k[0],None,row[4]))\n",
    "for row in rows:\n",
    "    cursor.execute('SELECT participantID FROM Participants where studentIdNumber is not null and clientID = %d and conferenceID = %d' % (row[0],row[1]))\n",
    "    for k in cursor.fetchall()[:row[3]]:\n",
    "        cursor.callproc('AddDayForParticipant',(k[0],None,row[4]))\n",
    "      "
   ]
  },
  {
   "cell_type": "markdown",
   "metadata": {},
   "source": [
    "# Workshops for participants"
   ]
  },
  {
   "cell_type": "code",
   "execution_count": null,
   "metadata": {},
   "outputs": [],
   "source": [
    "day=[]\n",
    "for row in rows:\n",
    "    if(row[4] in day):\n",
    "        continue\n",
    "    day.append(row[4])\n",
    "    cursor.execute('SELECT workshopID FROM Workshops where ConferenceDayId = '+str(row[4]))\n",
    "    workshopsOfDay=cursor.fetchall()\n",
    "    for k in workshopsOfDay:\n",
    "        if(random.random()>0.5):\n",
    "            count=random.randrange(1,row[2]+1)\n",
    "            cursor.callproc('AddWorkshopForClient',(row[0],k[0],count))\n",
    "            cursor.execute('SELECT participantID FROM ParticipantDayChoices where ConferenceDayID = %d and participantID in (select participantID from Participants where clientID=%d)'%(row[4],row[0]))\n",
    "            for participant in cursor.fetchall()[:count]:\n",
    "                data=(participant[0],k[0])\n",
    "                cursor.callproc('AddWorkshopForParticipant',data)"
   ]
  },
  {
   "cell_type": "code",
   "execution_count": null,
   "metadata": {},
   "outputs": [],
   "source": [
    "conn.commit()\n",
    "conn.close()"
   ]
  },
  {
   "cell_type": "code",
   "execution_count": 805,
   "metadata": {},
   "outputs": [],
   "source": [
    "conn.close()"
   ]
  },
  {
   "cell_type": "code",
   "execution_count": null,
   "metadata": {
    "collapsed": true
   },
   "outputs": [],
   "source": []
  }
 ],
 "metadata": {
  "kernelspec": {
   "display_name": "Python 2",
   "language": "python",
   "name": "python2"
  },
  "language_info": {
   "codemirror_mode": {
    "name": "ipython",
    "version": 2
   },
   "file_extension": ".py",
   "mimetype": "text/x-python",
   "name": "python",
   "nbconvert_exporter": "python",
   "pygments_lexer": "ipython2",
   "version": "2.7.14"
  }
 },
 "nbformat": 4,
 "nbformat_minor": 2
}
